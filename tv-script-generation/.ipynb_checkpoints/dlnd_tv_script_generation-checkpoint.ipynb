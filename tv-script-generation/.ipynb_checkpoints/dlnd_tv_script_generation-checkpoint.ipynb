{
 "cells": [
  {
   "cell_type": "markdown",
   "metadata": {
    "deletable": true,
    "editable": true
   },
   "source": [
    "# TV Script Generation\n",
    "In this project, you'll generate your own [Simpsons](https://en.wikipedia.org/wiki/The_Simpsons) TV scripts using RNNs.  You'll be using part of the [Simpsons dataset](https://www.kaggle.com/wcukierski/the-simpsons-by-the-data) of scripts from 27 seasons.  The Neural Network you'll build will generate a new TV script for a scene at [Moe's Tavern](https://simpsonswiki.com/wiki/Moe's_Tavern).\n",
    "## Get the Data\n",
    "The data is already provided for you.  You'll be using a subset of the original dataset.  It consists of only the scenes in Moe's Tavern.  This doesn't include other versions of the tavern, like \"Moe's Cavern\", \"Flaming Moe's\", \"Uncle Moe's Family Feed-Bag\", etc.."
   ]
  },
  {
   "cell_type": "code",
   "execution_count": 1,
   "metadata": {
    "collapsed": false,
    "deletable": true,
    "editable": true
   },
   "outputs": [
    {
     "name": "stdout",
     "output_type": "stream",
     "text": [
      "305189\n"
     ]
    }
   ],
   "source": [
    "\"\"\"\n",
    "DON'T MODIFY ANYTHING IN THIS CELL\n",
    "\"\"\"\n",
    "import helper\n",
    "\n",
    "data_dir = './data/simpsons/moes_tavern_lines.txt'\n",
    "text = helper.load_data(data_dir)\n",
    "# Ignore notice, since we don't use it for analysing the data\n",
    "text = text[81:]\n",
    "print(len(text))"
   ]
  },
  {
   "cell_type": "markdown",
   "metadata": {
    "deletable": true,
    "editable": true
   },
   "source": [
    "## Explore the Data\n",
    "Play around with `view_sentence_range` to view different parts of the data."
   ]
  },
  {
   "cell_type": "code",
   "execution_count": 2,
   "metadata": {
    "collapsed": false,
    "deletable": true,
    "editable": true
   },
   "outputs": [
    {
     "name": "stdout",
     "output_type": "stream",
     "text": [
      "Dataset Stats\n",
      "Roughly the number of unique words: 11492\n",
      "Number of scenes: 262\n",
      "Average number of sentences in each scene: 15.248091603053435\n",
      "Number of lines: 4257\n",
      "Average number of words in each line: 11.50434578341555\n",
      "\n",
      "The sentences 0 to 10:\n",
      "Moe_Szyslak: (INTO PHONE) Moe's Tavern. Where the elite meet to drink.\n",
      "Bart_Simpson: Eh, yeah, hello, is Mike there? Last name, Rotch.\n",
      "Moe_Szyslak: (INTO PHONE) Hold on, I'll check. (TO BARFLIES) Mike Rotch. Mike Rotch. Hey, has anybody seen Mike Rotch, lately?\n",
      "Moe_Szyslak: (INTO PHONE) Listen you little puke. One of these days I'm gonna catch you, and I'm gonna carve my name on your back with an ice pick.\n",
      "Moe_Szyslak: What's the matter Homer? You're not your normal effervescent self.\n",
      "Homer_Simpson: I got my problems, Moe. Give me another one.\n",
      "Moe_Szyslak: Homer, hey, you should not drink to forget your problems.\n",
      "Barney_Gumble: Yeah, you should only drink to enhance your social skills.\n",
      "\n",
      "\n"
     ]
    }
   ],
   "source": [
    "view_sentence_range = (0, 10)\n",
    "\n",
    "\"\"\"\n",
    "DON'T MODIFY ANYTHING IN THIS CELL\n",
    "\"\"\"\n",
    "import numpy as np\n",
    "\n",
    "print('Dataset Stats')\n",
    "print('Roughly the number of unique words: {}'.format(len({word: None for word in text.split()})))\n",
    "scenes = text.split('\\n\\n')\n",
    "print('Number of scenes: {}'.format(len(scenes)))\n",
    "sentence_count_scene = [scene.count('\\n') for scene in scenes]\n",
    "print('Average number of sentences in each scene: {}'.format(np.average(sentence_count_scene)))\n",
    "\n",
    "sentences = [sentence for scene in scenes for sentence in scene.split('\\n')]\n",
    "print('Number of lines: {}'.format(len(sentences)))\n",
    "word_count_sentence = [len(sentence.split()) for sentence in sentences]\n",
    "print('Average number of words in each line: {}'.format(np.average(word_count_sentence)))\n",
    "\n",
    "print()\n",
    "print('The sentences {} to {}:'.format(*view_sentence_range))\n",
    "print('\\n'.join(text.split('\\n')[view_sentence_range[0]:view_sentence_range[1]]))"
   ]
  },
  {
   "cell_type": "markdown",
   "metadata": {
    "deletable": true,
    "editable": true
   },
   "source": [
    "## Implement Preprocessing Functions\n",
    "The first thing to do to any dataset is preprocessing.  Implement the following preprocessing functions below:\n",
    "- Lookup Table\n",
    "- Tokenize Punctuation\n",
    "\n",
    "### Lookup Table\n",
    "To create a word embedding, you first need to transform the words to ids.  In this function, create two dictionaries:\n",
    "- Dictionary to go from the words to an id, we'll call `vocab_to_int`\n",
    "- Dictionary to go from the id to word, we'll call `int_to_vocab`\n",
    "\n",
    "Return these dictionaries in the following tuple `(vocab_to_int, int_to_vocab)`"
   ]
  },
  {
   "cell_type": "code",
   "execution_count": 3,
   "metadata": {
    "collapsed": false,
    "deletable": true,
    "editable": true
   },
   "outputs": [
    {
     "name": "stdout",
     "output_type": "stream",
     "text": [
      "Tests Passed\n"
     ]
    }
   ],
   "source": [
    "import numpy as np\n",
    "import problem_unittests as tests\n",
    "\n",
    "def create_lookup_tables(text):\n",
    "    \"\"\"\n",
    "    Create lookup tables for vocabulary\n",
    "    :param text: The text of tv scripts split into words\n",
    "    :return: A tuple of dicts (vocab_to_int, int_to_vocab)\n",
    "    \"\"\"\n",
    "    # TODO: Implement Function\n",
    "    from collections import Counter\n",
    "    counts = Counter(text)    \n",
    "    vocabulary = sorted(counts, key=counts.get, reverse=True)\n",
    "    vocab_to_int = {word: ii for ii, word in enumerate(vocabulary, 0)}\n",
    "    int_to_vocab = {ii: word for ii, word in enumerate(vocabulary, 0)}\n",
    "    \n",
    "    return (vocab_to_int, int_to_vocab)\n",
    "\n",
    "\"\"\"\n",
    "DON'T MODIFY ANYTHING IN THIS CELL THAT IS BELOW THIS LINE\n",
    "\"\"\"\n",
    "tests.test_create_lookup_tables(create_lookup_tables)"
   ]
  },
  {
   "cell_type": "markdown",
   "metadata": {
    "deletable": true,
    "editable": true
   },
   "source": [
    "### Tokenize Punctuation\n",
    "We'll be splitting the script into a word array using spaces as delimiters.  However, punctuations like periods and exclamation marks make it hard for the neural network to distinguish between the word \"bye\" and \"bye!\".\n",
    "\n",
    "Implement the function `token_lookup` to return a dict that will be used to tokenize symbols like \"!\" into \"||Exclamation_Mark||\".  Create a dictionary for the following symbols where the symbol is the key and value is the token:\n",
    "- Period ( . )\n",
    "- Comma ( , )\n",
    "- Quotation Mark ( \" )\n",
    "- Semicolon ( ; )\n",
    "- Exclamation mark ( ! )\n",
    "- Question mark ( ? )\n",
    "- Left Parentheses ( ( )\n",
    "- Right Parentheses ( ) )\n",
    "- Dash ( -- )\n",
    "- Return ( \\n )\n",
    "\n",
    "This dictionary will be used to token the symbols and add the delimiter (space) around it.  This separates the symbols as it's own word, making it easier for the neural network to predict on the next word. Make sure you don't use a token that could be confused as a word. Instead of using the token \"dash\", try using something like \"||dash||\"."
   ]
  },
  {
   "cell_type": "code",
   "execution_count": 4,
   "metadata": {
    "collapsed": false,
    "deletable": true,
    "editable": true
   },
   "outputs": [
    {
     "name": "stdout",
     "output_type": "stream",
     "text": [
      "Tests Passed\n"
     ]
    }
   ],
   "source": [
    "def token_lookup():\n",
    "    \"\"\"\n",
    "    Generate a dict to turn punctuation into a token.\n",
    "    :return: Tokenize dictionary where the key is the punctuation and the value is the token\n",
    "    \"\"\"\n",
    "    # TODO: Implement Function\n",
    "    punctuation = ['.', ',', '\"', ';', '!', '?', '(', ')', '--', '\\n']\n",
    "    token = [\"||Period||\",\"||Comma||\",\"||Quotation_Mark||\",\"||Semicolon||\",\n",
    "             \"||Exclamation_mark||\",\"||Question_mark||\",\"||Left_Parentheses||\",\n",
    "             \"||Right_Parentheses||\",\"||Dash||\",\"||Return||\"]\n",
    "    return dict(zip(punctuation, token))\n",
    "\n",
    "\"\"\"\n",
    "DON'T MODIFY ANYTHING IN THIS CELL THAT IS BELOW THIS LINE\n",
    "\"\"\"\n",
    "tests.test_tokenize(token_lookup)"
   ]
  },
  {
   "cell_type": "markdown",
   "metadata": {
    "deletable": true,
    "editable": true
   },
   "source": [
    "## Preprocess all the data and save it\n",
    "Running the code cell below will preprocess all the data and save it to file."
   ]
  },
  {
   "cell_type": "code",
   "execution_count": 5,
   "metadata": {
    "collapsed": false,
    "deletable": true,
    "editable": true
   },
   "outputs": [],
   "source": [
    "\"\"\"\n",
    "DON'T MODIFY ANYTHING IN THIS CELL\n",
    "\"\"\"\n",
    "# Preprocess Training, Validation, and Testing Data\n",
    "helper.preprocess_and_save_data(data_dir, token_lookup, create_lookup_tables)"
   ]
  },
  {
   "cell_type": "markdown",
   "metadata": {
    "deletable": true,
    "editable": true
   },
   "source": [
    "# Check Point\n",
    "This is your first checkpoint. If you ever decide to come back to this notebook or have to restart the notebook, you can start from here. The preprocessed data has been saved to disk."
   ]
  },
  {
   "cell_type": "code",
   "execution_count": 3,
   "metadata": {
    "collapsed": false,
    "deletable": true,
    "editable": true
   },
   "outputs": [],
   "source": [
    "\"\"\"\n",
    "DON'T MODIFY ANYTHING IN THIS CELL\n",
    "\"\"\"\n",
    "import helper\n",
    "import numpy as np\n",
    "import problem_unittests as tests\n",
    "\n",
    "int_text, vocab_to_int, int_to_vocab, token_dict = helper.load_preprocess()"
   ]
  },
  {
   "cell_type": "markdown",
   "metadata": {
    "deletable": true,
    "editable": true
   },
   "source": [
    "## Build the Neural Network\n",
    "You'll build the components necessary to build a RNN by implementing the following functions below:\n",
    "- get_inputs\n",
    "- get_init_cell\n",
    "- get_embed\n",
    "- build_rnn\n",
    "- build_nn\n",
    "- get_batches\n",
    "\n",
    "### Check the Version of TensorFlow and Access to GPU"
   ]
  },
  {
   "cell_type": "code",
   "execution_count": 4,
   "metadata": {
    "collapsed": false,
    "deletable": true,
    "editable": true
   },
   "outputs": [
    {
     "name": "stdout",
     "output_type": "stream",
     "text": [
      "TensorFlow Version: 1.0.0\n",
      "Default GPU Device: /gpu:0\n"
     ]
    }
   ],
   "source": [
    "\"\"\"\n",
    "DON'T MODIFY ANYTHING IN THIS CELL\n",
    "\"\"\"\n",
    "from distutils.version import LooseVersion\n",
    "import warnings\n",
    "import tensorflow as tf\n",
    "\n",
    "# Check TensorFlow Version\n",
    "assert LooseVersion(tf.__version__) >= LooseVersion('1.0'), 'Please use TensorFlow version 1.0 or newer'\n",
    "print('TensorFlow Version: {}'.format(tf.__version__))\n",
    "\n",
    "# Check for a GPU\n",
    "if not tf.test.gpu_device_name():\n",
    "    warnings.warn('No GPU found. Please use a GPU to train your neural network.')\n",
    "else:\n",
    "    print('Default GPU Device: {}'.format(tf.test.gpu_device_name()))"
   ]
  },
  {
   "cell_type": "markdown",
   "metadata": {
    "deletable": true,
    "editable": true
   },
   "source": [
    "### Input\n",
    "Implement the `get_inputs()` function to create TF Placeholders for the Neural Network.  It should create the following placeholders:\n",
    "- Input text placeholder named \"input\" using the [TF Placeholder](https://www.tensorflow.org/api_docs/python/tf/placeholder) `name` parameter.\n",
    "- Targets placeholder\n",
    "- Learning Rate placeholder\n",
    "\n",
    "Return the placeholders in the following the tuple `(Input, Targets, LearingRate)`"
   ]
  },
  {
   "cell_type": "code",
   "execution_count": 22,
   "metadata": {
    "collapsed": false,
    "deletable": true,
    "editable": true
   },
   "outputs": [
    {
     "name": "stdout",
     "output_type": "stream",
     "text": [
      "Tests Passed\n"
     ]
    }
   ],
   "source": [
    "def get_inputs():\n",
    "    \"\"\"\n",
    "    Create TF Placeholders for input, targets, and learning rate.\n",
    "    :return: Tuple (input, targets, learning rate)\n",
    "    \"\"\"\n",
    "    # TODO: Implement Function\n",
    "    input = tf.placeholder(tf.int32, [None,None], name='input')\n",
    "    targets = tf.placeholder(tf.int32, [None,None], name='targets')\n",
    "    learning_rate = tf.placeholder(tf.float32, name='learning_rate')\n",
    "    \n",
    "    return (input, targets, learning_rate)\n",
    "\n",
    "\"\"\"\n",
    "DON'T MODIFY ANYTHING IN THIS CELL THAT IS BELOW THIS LINE\n",
    "\"\"\"\n",
    "tests.test_get_inputs(get_inputs)"
   ]
  },
  {
   "cell_type": "markdown",
   "metadata": {
    "deletable": true,
    "editable": true
   },
   "source": [
    "### Build RNN Cell and Initialize\n",
    "Stack one or more [`BasicLSTMCells`](https://www.tensorflow.org/api_docs/python/tf/contrib/rnn/BasicLSTMCell) in a [`MultiRNNCell`](https://www.tensorflow.org/api_docs/python/tf/contrib/rnn/MultiRNNCell).\n",
    "- The Rnn size should be set using `rnn_size`\n",
    "- Initalize Cell State using the MultiRNNCell's [`zero_state()`](https://www.tensorflow.org/api_docs/python/tf/contrib/rnn/MultiRNNCell#zero_state) function\n",
    "    - Apply the name \"initial_state\" to the initial state using [`tf.identity()`](https://www.tensorflow.org/api_docs/python/tf/identity)\n",
    "\n",
    "Return the cell and initial state in the following tuple `(Cell, InitialState)`"
   ]
  },
  {
   "cell_type": "code",
   "execution_count": 42,
   "metadata": {
    "collapsed": false,
    "deletable": true,
    "editable": true
   },
   "outputs": [
    {
     "name": "stdout",
     "output_type": "stream",
     "text": [
      "Tests Passed\n"
     ]
    }
   ],
   "source": [
    "def get_init_cell(batch_size, rnn_size):\n",
    "    \"\"\"\n",
    "    Create an RNN Cell and initialize it.\n",
    "    :param batch_size: Size of batches\n",
    "    :param rnn_size: Size of RNNs\n",
    "    :return: Tuple (cell, initialize state)\n",
    "    \"\"\"\n",
    "    num_of_lstm_layers = 2\n",
    "    keep_prob = 1.0\n",
    "    # TODO: Implement Function\n",
    "    cell = tf.contrib.rnn.BasicLSTMCell(rnn_size)\n",
    "    drop = tf.contrib.rnn.DropoutWrapper(cell, output_keep_prob=keep_prob)\n",
    "    cell = tf.contrib.rnn.MultiRNNCell([drop] * num_of_lstm_layers)    \n",
    "    initial_state = tf.identity(cell.zero_state(batch_size, tf.float32), name = 'initial_state')\n",
    "    \n",
    "    return (cell, initial_state)\n",
    "\n",
    "\"\"\"\n",
    "DON'T MODIFY ANYTHING IN THIS CELL THAT IS BELOW THIS LINE\n",
    "\"\"\"\n",
    "tests.test_get_init_cell(get_init_cell)"
   ]
  },
  {
   "cell_type": "markdown",
   "metadata": {
    "deletable": true,
    "editable": true
   },
   "source": [
    "### Word Embedding\n",
    "Apply embedding to `input_data` using TensorFlow.  Return the embedded sequence."
   ]
  },
  {
   "cell_type": "code",
   "execution_count": 43,
   "metadata": {
    "collapsed": false,
    "deletable": true,
    "editable": true
   },
   "outputs": [
    {
     "name": "stdout",
     "output_type": "stream",
     "text": [
      "Tests Passed\n"
     ]
    }
   ],
   "source": [
    "def get_embed(input_data, vocab_size, embed_dim):\n",
    "    \"\"\"\n",
    "    Create embedding for <input_data>.\n",
    "    :param input_data: TF placeholder for text input.\n",
    "    :param vocab_size: Number of words in vocabulary.\n",
    "    :param embed_dim: Number of embedding dimensions\n",
    "    :return: Embedded input.\n",
    "    \"\"\"\n",
    "    embedding = tf.Variable(tf.random_uniform((vocab_size, embed_dim)))\n",
    "    embed = tf.nn.embedding_lookup(embedding, input_data)\n",
    "    # TODO: Implement Function\n",
    "    return embed\n",
    "\n",
    "\n",
    "\"\"\"\n",
    "DON'T MODIFY ANYTHING IN THIS CELL THAT IS BELOW THIS LINE\n",
    "\"\"\"\n",
    "tests.test_get_embed(get_embed)"
   ]
  },
  {
   "cell_type": "markdown",
   "metadata": {
    "deletable": true,
    "editable": true
   },
   "source": [
    "### Build RNN\n",
    "You created a RNN Cell in the `get_init_cell()` function.  Time to use the cell to create a RNN.\n",
    "- Build the RNN using the [`tf.nn.dynamic_rnn()`](https://www.tensorflow.org/api_docs/python/tf/nn/dynamic_rnn)\n",
    " - Apply the name \"final_state\" to the final state using [`tf.identity()`](https://www.tensorflow.org/api_docs/python/tf/identity)\n",
    "\n",
    "Return the outputs and final_state state in the following tuple `(Outputs, FinalState)` "
   ]
  },
  {
   "cell_type": "code",
   "execution_count": 44,
   "metadata": {
    "collapsed": false,
    "deletable": true,
    "editable": true
   },
   "outputs": [
    {
     "name": "stdout",
     "output_type": "stream",
     "text": [
      "Tests Passed\n"
     ]
    }
   ],
   "source": [
    "def build_rnn(cell, inputs):\n",
    "    \"\"\"\n",
    "    Create a RNN using a RNN Cell\n",
    "    :param cell: RNN Cell\n",
    "    :param inputs: Input text data\n",
    "    :return: Tuple (Outputs, Final State)\n",
    "    \"\"\"\n",
    "    # TODO: Implement Function\n",
    "    outputs, final_state = tf.nn.dynamic_rnn(cell, inputs, dtype=tf.float32)\n",
    "    final_state = tf.identity(final_state, name='final_state')\n",
    "    return (outputs, final_state)\n",
    "\n",
    "\n",
    "\"\"\"\n",
    "DON'T MODIFY ANYTHING IN THIS CELL THAT IS BELOW THIS LINE\n",
    "\"\"\"\n",
    "tests.test_build_rnn(build_rnn)"
   ]
  },
  {
   "cell_type": "markdown",
   "metadata": {
    "deletable": true,
    "editable": true
   },
   "source": [
    "### Build the Neural Network\n",
    "Apply the functions you implemented above to:\n",
    "- Apply embedding to `input_data` using your `get_embed(input_data, vocab_size, embed_dim)` function.\n",
    "- Build RNN using `cell` and your `build_rnn(cell, inputs)` function.\n",
    "- Apply a fully connected layer with a linear activation and `vocab_size` as the number of outputs.\n",
    "\n",
    "Return the logits and final state in the following tuple (Logits, FinalState) "
   ]
  },
  {
   "cell_type": "code",
   "execution_count": 45,
   "metadata": {
    "collapsed": false,
    "deletable": true,
    "editable": true
   },
   "outputs": [
    {
     "name": "stdout",
     "output_type": "stream",
     "text": [
      "Tests Passed\n"
     ]
    }
   ],
   "source": [
    "def build_nn(cell, rnn_size, input_data, vocab_size):\n",
    "    \"\"\"\n",
    "    Build part of the neural network\n",
    "    :param cell: RNN cell\n",
    "    :param rnn_size: Size of rnns\n",
    "    :param input_data: Input data\n",
    "    :param vocab_size: Vocabulary size\n",
    "    :return: Tuple (Logits, FinalState)\n",
    "    \"\"\"\n",
    "    # TODO: Implement Function\n",
    "    inputs = get_embed(input_data, vocab_size, rnn_size)\n",
    "    outputs, final_state = build_rnn(cell, inputs)\n",
    "    logits = tf.contrib.layers.fully_connected(outputs, vocab_size, activation_fn=None,\n",
    "                                              weights_initializer=tf.truncated_normal_initializer(mean=0.0, stddev=0.1),\n",
    "                                               biases_initializer=tf.zeros_initializer())\n",
    "    \n",
    "    return (logits, final_state)\n",
    "    \"\"\"weights = tf.Variable(tf.truncated_normal(shape=[rnn_size, vocab_size], \n",
    "                                              mean=0.0, \n",
    "                                              stddev=0.1, \n",
    "                                              dtype=tf.float32, \n",
    "                                              seed=123)) \n",
    "    biases = tf.Variable(tf.zeros(shape=[vocab_size], dtype=tf.float32))     \n",
    "    \n",
    "    \n",
    "    def mul_fn(current_input):\n",
    "        return tf.matmul(current_input, weights) + biases\n",
    "\n",
    "    logits = tf.map_fn(mul_fn, outputs)\n",
    "\n",
    "        \n",
    "    return (logits, final_state)\"\"\"        \n",
    "\n",
    "\"\"\"\n",
    "DON'T MODIFY ANYTHING IN THIS CELL THAT IS BELOW THIS LINE\n",
    "\"\"\"\n",
    "tests.test_build_nn(build_nn)"
   ]
  },
  {
   "cell_type": "code",
   "execution_count": null,
   "metadata": {
    "collapsed": true,
    "deletable": true,
    "editable": true
   },
   "outputs": [],
   "source": []
  },
  {
   "cell_type": "markdown",
   "metadata": {
    "deletable": true,
    "editable": true
   },
   "source": [
    "### Batches\n",
    "Implement `get_batches` to create batches of input and targets using `int_text`.  The batches should be a Numpy array with the shape `(number of batches, 2, batch size, sequence length)`. Each batch contains two elements:\n",
    "- The first element is a single batch of **input** with the shape `[batch size, sequence length]`\n",
    "- The second element is a single batch of **targets** with the shape `[batch size, sequence length]`\n",
    "\n",
    "If you can't fill the last batch with enough data, drop the last batch.\n",
    "\n",
    "For exmple, `get_batches([1, 2, 3, 4, 5, 6, 7, 8, 9, 10, 11, 12, 13, 14, 15], 2, 3)` would return a Numpy array of the following:\n",
    "```\n",
    "[\n",
    "  # First Batch\n",
    "  [\n",
    "    # Batch of Input\n",
    "    [[ 1  2  3], [ 7  8  9]],\n",
    "    # Batch of targets\n",
    "    [[ 2  3  4], [ 8  9 10]]\n",
    "  ],\n",
    " \n",
    "  # Second Batch\n",
    "  [\n",
    "    # Batch of Input\n",
    "    [[ 4  5  6], [10 11 12]],\n",
    "    # Batch of targets\n",
    "    [[ 5  6  7], [11 12 13]]\n",
    "  ]\n",
    "]\n",
    "```"
   ]
  },
  {
   "cell_type": "code",
   "execution_count": 6,
   "metadata": {
    "collapsed": false,
    "deletable": true,
    "editable": true
   },
   "outputs": [
    {
     "name": "stdout",
     "output_type": "stream",
     "text": [
      "Tests Passed\n"
     ]
    }
   ],
   "source": [
    "def get_batches(int_text, batch_size, seq_length):\n",
    "    \"\"\"\n",
    "    Return batches of input and target\n",
    "    :param int_text: Text with the words replaced by their ids\n",
    "    :param batch_size: The size of batch\n",
    "    :param seq_length: The length of sequence\n",
    "    :return: Batches as a Numpy array\n",
    "    \"\"\"\n",
    "    n_batches = int(len(int_text) / (batch_size * seq_length))\n",
    "\n",
    "    # Drop the last few characters to make only full batches\n",
    "    xdata = np.array(int_text[: n_batches * batch_size * seq_length])\n",
    "    ydata = np.array(int_text[1: n_batches * batch_size * seq_length + 1])\n",
    "\n",
    "    x_batches = np.split(xdata.reshape(batch_size, -1), n_batches, 1)\n",
    "    y_batches = np.split(ydata.reshape(batch_size, -1), n_batches, 1)\n",
    "\n",
    "    return np.array(list(zip(x_batches, y_batches)))\n",
    "    #return list(zip(x_batches, y_batches))\n",
    "    \n",
    "\n",
    "\"\"\"\n",
    "DON'T MODIFY ANYTHING IN THIS CELL THAT IS BELOW THIS LINE\n",
    "\"\"\"\n",
    "tests.test_get_batches(get_batches)"
   ]
  },
  {
   "cell_type": "markdown",
   "metadata": {
    "deletable": true,
    "editable": true
   },
   "source": [
    "## Neural Network Training\n",
    "### Hyperparameters\n",
    "Tune the following parameters:\n",
    "\n",
    "- Set `num_epochs` to the number of epochs.\n",
    "- Set `batch_size` to the batch size.\n",
    "- Set `rnn_size` to the size of the RNNs.\n",
    "- Set `seq_length` to the length of sequence.\n",
    "- Set `learning_rate` to the learning rate.\n",
    "- Set `show_every_n_batches` to the number of batches the neural network should print progress."
   ]
  },
  {
   "cell_type": "code",
   "execution_count": 62,
   "metadata": {
    "collapsed": true,
    "deletable": true,
    "editable": true
   },
   "outputs": [],
   "source": [
    "# Number of Epochs\n",
    "num_epochs = 200\n",
    "# Batch Size\n",
    "batch_size = 80\n",
    "# RNN Size\n",
    "rnn_size = 500\n",
    "# Sequence Length\n",
    "seq_length = 10\n",
    "# Learning Rate\n",
    "learning_rate = 0.007\n",
    "# Show stats for every n number of batches\n",
    "show_every_n_batches = 30\n",
    "\n",
    "\"\"\"\n",
    "DON'T MODIFY ANYTHING IN THIS CELL THAT IS BELOW THIS LINE\n",
    "\"\"\"\n",
    "save_dir = './save'"
   ]
  },
  {
   "cell_type": "markdown",
   "metadata": {
    "deletable": true,
    "editable": true
   },
   "source": [
    "### Build the Graph\n",
    "Build the graph using the neural network you implemented."
   ]
  },
  {
   "cell_type": "code",
   "execution_count": 63,
   "metadata": {
    "collapsed": false,
    "deletable": true,
    "editable": true
   },
   "outputs": [],
   "source": [
    "\"\"\"\n",
    "DON'T MODIFY ANYTHING IN THIS CELL\n",
    "\"\"\"\n",
    "from tensorflow.contrib import seq2seq\n",
    "\n",
    "train_graph = tf.Graph()\n",
    "with train_graph.as_default():\n",
    "    vocab_size = len(int_to_vocab)\n",
    "    input_text, targets, lr = get_inputs()\n",
    "    input_data_shape = tf.shape(input_text)\n",
    "    cell, initial_state = get_init_cell(input_data_shape[0], rnn_size)\n",
    "    logits, final_state = build_nn(cell, rnn_size, input_text, vocab_size)\n",
    "\n",
    "    # Probabilities for generating words\n",
    "    probs = tf.nn.softmax(logits, name='probs')\n",
    "\n",
    "    # Loss function\n",
    "    cost = seq2seq.sequence_loss(\n",
    "        logits,\n",
    "        targets,\n",
    "        tf.ones([input_data_shape[0], input_data_shape[1]]))\n",
    "\n",
    "    # Optimizer\n",
    "    optimizer = tf.train.AdamOptimizer(lr)\n",
    "\n",
    "    # Gradient Clipping\n",
    "    gradients = optimizer.compute_gradients(cost)\n",
    "    capped_gradients = [(tf.clip_by_value(grad, -1., 1.), var) for grad, var in gradients]\n",
    "    train_op = optimizer.apply_gradients(capped_gradients)"
   ]
  },
  {
   "cell_type": "code",
   "execution_count": null,
   "metadata": {
    "collapsed": true,
    "deletable": true,
    "editable": true
   },
   "outputs": [],
   "source": []
  },
  {
   "cell_type": "markdown",
   "metadata": {
    "deletable": true,
    "editable": true
   },
   "source": [
    "## Train\n",
    "Train the neural network on the preprocessed data.  If you have a hard time getting a good loss, check the [forms](https://discussions.udacity.com/) to see if anyone is having the same problem."
   ]
  },
  {
   "cell_type": "code",
   "execution_count": 64,
   "metadata": {
    "collapsed": false,
    "deletable": true,
    "editable": true
   },
   "outputs": [
    {
     "name": "stdout",
     "output_type": "stream",
     "text": [
      "Epoch   0 Batch    0/86   train_loss = 8.857\n",
      "Epoch   0 Batch   30/86   train_loss = 6.323\n",
      "Epoch   0 Batch   60/86   train_loss = 5.765\n",
      "Epoch   1 Batch    4/86   train_loss = 5.878\n",
      "Epoch   1 Batch   34/86   train_loss = 6.036\n",
      "Epoch   1 Batch   64/86   train_loss = 6.182\n",
      "Epoch   2 Batch    8/86   train_loss = 5.999\n",
      "Epoch   2 Batch   38/86   train_loss = 6.042\n",
      "Epoch   2 Batch   68/86   train_loss = 5.977\n",
      "Epoch   3 Batch   12/86   train_loss = 5.903\n",
      "Epoch   3 Batch   42/86   train_loss = 5.619\n",
      "Epoch   3 Batch   72/86   train_loss = 6.040\n",
      "Epoch   4 Batch   16/86   train_loss = 5.871\n",
      "Epoch   4 Batch   46/86   train_loss = 5.560\n",
      "Epoch   4 Batch   76/86   train_loss = 6.228\n",
      "Epoch   5 Batch   20/86   train_loss = 5.896\n",
      "Epoch   5 Batch   50/86   train_loss = 5.922\n",
      "Epoch   5 Batch   80/86   train_loss = 5.897\n",
      "Epoch   6 Batch   24/86   train_loss = 6.174\n",
      "Epoch   6 Batch   54/86   train_loss = 5.811\n",
      "Epoch   6 Batch   84/86   train_loss = 5.863\n",
      "Epoch   7 Batch   28/86   train_loss = 5.903\n",
      "Epoch   7 Batch   58/86   train_loss = 5.802\n",
      "Epoch   8 Batch    2/86   train_loss = 5.857\n",
      "Epoch   8 Batch   32/86   train_loss = 6.029\n",
      "Epoch   8 Batch   62/86   train_loss = 5.760\n",
      "Epoch   9 Batch    6/86   train_loss = 5.877\n",
      "Epoch   9 Batch   36/86   train_loss = 5.901\n",
      "Epoch   9 Batch   66/86   train_loss = 5.896\n",
      "Epoch  10 Batch   10/86   train_loss = 6.317\n",
      "Epoch  10 Batch   40/86   train_loss = 6.044\n",
      "Epoch  10 Batch   70/86   train_loss = 6.213\n",
      "Epoch  11 Batch   14/86   train_loss = 5.958\n",
      "Epoch  11 Batch   44/86   train_loss = 6.066\n",
      "Epoch  11 Batch   74/86   train_loss = 6.331\n",
      "Epoch  12 Batch   18/86   train_loss = 5.920\n",
      "Epoch  12 Batch   48/86   train_loss = 6.278\n",
      "Epoch  12 Batch   78/86   train_loss = 6.098\n",
      "Epoch  13 Batch   22/86   train_loss = 5.920\n",
      "Epoch  13 Batch   52/86   train_loss = 5.765\n",
      "Epoch  13 Batch   82/86   train_loss = 6.072\n",
      "Epoch  14 Batch   26/86   train_loss = 6.149\n",
      "Epoch  14 Batch   56/86   train_loss = 6.028\n",
      "Epoch  15 Batch    0/86   train_loss = 5.815\n",
      "Epoch  15 Batch   30/86   train_loss = 6.086\n",
      "Epoch  15 Batch   60/86   train_loss = 5.817\n",
      "Epoch  16 Batch    4/86   train_loss = 5.897\n",
      "Epoch  16 Batch   34/86   train_loss = 5.957\n",
      "Epoch  16 Batch   64/86   train_loss = 6.255\n",
      "Epoch  17 Batch    8/86   train_loss = 6.047\n",
      "Epoch  17 Batch   38/86   train_loss = 5.933\n",
      "Epoch  17 Batch   68/86   train_loss = 6.151\n",
      "Epoch  18 Batch   12/86   train_loss = 6.125\n",
      "Epoch  18 Batch   42/86   train_loss = 5.682\n",
      "Epoch  18 Batch   72/86   train_loss = 6.006\n",
      "Epoch  19 Batch   16/86   train_loss = 5.842\n",
      "Epoch  19 Batch   46/86   train_loss = 5.620\n",
      "Epoch  19 Batch   76/86   train_loss = 6.376\n",
      "Epoch  20 Batch   20/86   train_loss = 6.075\n",
      "Epoch  20 Batch   50/86   train_loss = 6.071\n",
      "Epoch  20 Batch   80/86   train_loss = 5.935\n",
      "Epoch  21 Batch   24/86   train_loss = 6.175\n",
      "Epoch  21 Batch   54/86   train_loss = 6.065\n",
      "Epoch  21 Batch   84/86   train_loss = 5.919\n",
      "Epoch  22 Batch   28/86   train_loss = 5.794\n",
      "Epoch  22 Batch   58/86   train_loss = 5.919\n",
      "Epoch  23 Batch    2/86   train_loss = 5.961\n",
      "Epoch  23 Batch   32/86   train_loss = 5.981\n",
      "Epoch  23 Batch   62/86   train_loss = 5.675\n",
      "Epoch  24 Batch    6/86   train_loss = 5.933\n",
      "Epoch  24 Batch   36/86   train_loss = 5.686\n",
      "Epoch  24 Batch   66/86   train_loss = 5.734\n",
      "Epoch  25 Batch   10/86   train_loss = 6.016\n",
      "Epoch  25 Batch   40/86   train_loss = 5.844\n",
      "Epoch  25 Batch   70/86   train_loss = 5.784\n",
      "Epoch  26 Batch   14/86   train_loss = 5.675\n",
      "Epoch  26 Batch   44/86   train_loss = 5.861\n",
      "Epoch  26 Batch   74/86   train_loss = 5.850\n",
      "Epoch  27 Batch   18/86   train_loss = 5.535\n",
      "Epoch  27 Batch   48/86   train_loss = 5.767\n",
      "Epoch  27 Batch   78/86   train_loss = 5.805\n",
      "Epoch  28 Batch   22/86   train_loss = 5.574\n",
      "Epoch  28 Batch   52/86   train_loss = 5.499\n",
      "Epoch  28 Batch   82/86   train_loss = 5.429\n",
      "Epoch  29 Batch   26/86   train_loss = 5.593\n",
      "Epoch  29 Batch   56/86   train_loss = 5.498\n",
      "Epoch  30 Batch    0/86   train_loss = 5.533\n",
      "Epoch  30 Batch   30/86   train_loss = 5.552\n",
      "Epoch  30 Batch   60/86   train_loss = 5.410\n",
      "Epoch  31 Batch    4/86   train_loss = 5.492\n",
      "Epoch  31 Batch   34/86   train_loss = 5.212\n",
      "Epoch  31 Batch   64/86   train_loss = 5.409\n",
      "Epoch  32 Batch    8/86   train_loss = 5.511\n",
      "Epoch  32 Batch   38/86   train_loss = 5.255\n",
      "Epoch  32 Batch   68/86   train_loss = 5.308\n",
      "Epoch  33 Batch   12/86   train_loss = 5.176\n",
      "Epoch  33 Batch   42/86   train_loss = 5.116\n",
      "Epoch  33 Batch   72/86   train_loss = 5.346\n",
      "Epoch  34 Batch   16/86   train_loss = 5.218\n",
      "Epoch  34 Batch   46/86   train_loss = 5.099\n",
      "Epoch  34 Batch   76/86   train_loss = 5.346\n",
      "Epoch  35 Batch   20/86   train_loss = 5.137\n",
      "Epoch  35 Batch   50/86   train_loss = 5.300\n",
      "Epoch  35 Batch   80/86   train_loss = 5.271\n",
      "Epoch  36 Batch   24/86   train_loss = 5.238\n",
      "Epoch  36 Batch   54/86   train_loss = 5.274\n",
      "Epoch  36 Batch   84/86   train_loss = 5.272\n",
      "Epoch  37 Batch   28/86   train_loss = 4.878\n",
      "Epoch  37 Batch   58/86   train_loss = 5.163\n",
      "Epoch  38 Batch    2/86   train_loss = 5.194\n",
      "Epoch  38 Batch   32/86   train_loss = 5.148\n",
      "Epoch  38 Batch   62/86   train_loss = 5.008\n",
      "Epoch  39 Batch    6/86   train_loss = 5.273\n",
      "Epoch  39 Batch   36/86   train_loss = 4.805\n",
      "Epoch  39 Batch   66/86   train_loss = 4.874\n",
      "Epoch  40 Batch   10/86   train_loss = 5.002\n",
      "Epoch  40 Batch   40/86   train_loss = 5.065\n",
      "Epoch  40 Batch   70/86   train_loss = 4.851\n",
      "Epoch  41 Batch   14/86   train_loss = 4.882\n",
      "Epoch  41 Batch   44/86   train_loss = 5.199\n",
      "Epoch  41 Batch   74/86   train_loss = 4.877\n",
      "Epoch  42 Batch   18/86   train_loss = 4.640\n",
      "Epoch  42 Batch   48/86   train_loss = 4.839\n",
      "Epoch  42 Batch   78/86   train_loss = 4.810\n",
      "Epoch  43 Batch   22/86   train_loss = 4.849\n",
      "Epoch  43 Batch   52/86   train_loss = 4.630\n",
      "Epoch  43 Batch   82/86   train_loss = 4.460\n",
      "Epoch  44 Batch   26/86   train_loss = 4.646\n",
      "Epoch  44 Batch   56/86   train_loss = 4.620\n",
      "Epoch  45 Batch    0/86   train_loss = 4.788\n",
      "Epoch  45 Batch   30/86   train_loss = 4.686\n",
      "Epoch  45 Batch   60/86   train_loss = 4.670\n",
      "Epoch  46 Batch    4/86   train_loss = 4.567\n",
      "Epoch  46 Batch   34/86   train_loss = 4.265\n",
      "Epoch  46 Batch   64/86   train_loss = 4.419\n",
      "Epoch  47 Batch    8/86   train_loss = 4.696\n",
      "Epoch  47 Batch   38/86   train_loss = 4.310\n",
      "Epoch  47 Batch   68/86   train_loss = 4.452\n",
      "Epoch  48 Batch   12/86   train_loss = 4.241\n",
      "Epoch  48 Batch   42/86   train_loss = 4.474\n",
      "Epoch  48 Batch   72/86   train_loss = 4.463\n",
      "Epoch  49 Batch   16/86   train_loss = 4.319\n",
      "Epoch  49 Batch   46/86   train_loss = 4.320\n",
      "Epoch  49 Batch   76/86   train_loss = 4.170\n",
      "Epoch  50 Batch   20/86   train_loss = 4.056\n",
      "Epoch  50 Batch   50/86   train_loss = 4.422\n",
      "Epoch  50 Batch   80/86   train_loss = 4.358\n",
      "Epoch  51 Batch   24/86   train_loss = 4.124\n",
      "Epoch  51 Batch   54/86   train_loss = 4.347\n",
      "Epoch  51 Batch   84/86   train_loss = 4.454\n",
      "Epoch  52 Batch   28/86   train_loss = 4.021\n",
      "Epoch  52 Batch   58/86   train_loss = 4.288\n",
      "Epoch  53 Batch    2/86   train_loss = 4.073\n",
      "Epoch  53 Batch   32/86   train_loss = 4.089\n",
      "Epoch  53 Batch   62/86   train_loss = 4.104\n",
      "Epoch  54 Batch    6/86   train_loss = 4.279\n",
      "Epoch  54 Batch   36/86   train_loss = 3.694\n",
      "Epoch  54 Batch   66/86   train_loss = 3.800\n",
      "Epoch  55 Batch   10/86   train_loss = 3.718\n",
      "Epoch  55 Batch   40/86   train_loss = 3.987\n",
      "Epoch  55 Batch   70/86   train_loss = 3.727\n",
      "Epoch  56 Batch   14/86   train_loss = 3.866\n",
      "Epoch  56 Batch   44/86   train_loss = 4.215\n",
      "Epoch  56 Batch   74/86   train_loss = 3.587\n",
      "Epoch  57 Batch   18/86   train_loss = 3.546\n",
      "Epoch  57 Batch   48/86   train_loss = 3.770\n",
      "Epoch  57 Batch   78/86   train_loss = 3.824\n",
      "Epoch  58 Batch   22/86   train_loss = 3.876\n",
      "Epoch  58 Batch   52/86   train_loss = 3.652\n",
      "Epoch  58 Batch   82/86   train_loss = 3.359\n",
      "Epoch  59 Batch   26/86   train_loss = 3.537\n",
      "Epoch  59 Batch   56/86   train_loss = 3.611\n",
      "Epoch  60 Batch    0/86   train_loss = 3.949\n",
      "Epoch  60 Batch   30/86   train_loss = 3.638\n",
      "Epoch  60 Batch   60/86   train_loss = 3.900\n",
      "Epoch  61 Batch    4/86   train_loss = 3.553\n",
      "Epoch  61 Batch   34/86   train_loss = 3.189\n",
      "Epoch  61 Batch   64/86   train_loss = 3.352\n",
      "Epoch  62 Batch    8/86   train_loss = 3.618\n",
      "Epoch  62 Batch   38/86   train_loss = 3.196\n",
      "Epoch  62 Batch   68/86   train_loss = 3.457\n",
      "Epoch  63 Batch   12/86   train_loss = 3.252\n",
      "Epoch  63 Batch   42/86   train_loss = 3.571\n",
      "Epoch  63 Batch   72/86   train_loss = 3.521\n",
      "Epoch  64 Batch   16/86   train_loss = 3.320\n",
      "Epoch  64 Batch   46/86   train_loss = 3.408\n",
      "Epoch  64 Batch   76/86   train_loss = 3.106\n",
      "Epoch  65 Batch   20/86   train_loss = 3.020\n",
      "Epoch  65 Batch   50/86   train_loss = 3.346\n",
      "Epoch  65 Batch   80/86   train_loss = 3.443\n",
      "Epoch  66 Batch   24/86   train_loss = 3.122\n",
      "Epoch  66 Batch   54/86   train_loss = 3.487\n",
      "Epoch  66 Batch   84/86   train_loss = 3.471\n",
      "Epoch  67 Batch   28/86   train_loss = 3.121\n",
      "Epoch  67 Batch   58/86   train_loss = 3.315\n",
      "Epoch  68 Batch    2/86   train_loss = 3.045\n",
      "Epoch  68 Batch   32/86   train_loss = 3.141\n",
      "Epoch  68 Batch   62/86   train_loss = 3.136\n",
      "Epoch  69 Batch    6/86   train_loss = 3.173\n",
      "Epoch  69 Batch   36/86   train_loss = 2.686\n",
      "Epoch  69 Batch   66/86   train_loss = 2.837\n",
      "Epoch  70 Batch   10/86   train_loss = 2.617\n",
      "Epoch  70 Batch   40/86   train_loss = 3.010\n",
      "Epoch  70 Batch   70/86   train_loss = 2.771\n",
      "Epoch  71 Batch   14/86   train_loss = 2.873\n",
      "Epoch  71 Batch   44/86   train_loss = 3.140\n",
      "Epoch  71 Batch   74/86   train_loss = 2.626\n",
      "Epoch  72 Batch   18/86   train_loss = 2.468\n",
      "Epoch  72 Batch   48/86   train_loss = 2.746\n",
      "Epoch  72 Batch   78/86   train_loss = 2.957\n",
      "Epoch  73 Batch   22/86   train_loss = 2.834\n",
      "Epoch  73 Batch   52/86   train_loss = 2.688\n",
      "Epoch  73 Batch   82/86   train_loss = 2.563\n",
      "Epoch  74 Batch   26/86   train_loss = 2.540\n",
      "Epoch  74 Batch   56/86   train_loss = 2.643\n",
      "Epoch  75 Batch    0/86   train_loss = 3.170\n",
      "Epoch  75 Batch   30/86   train_loss = 2.582\n",
      "Epoch  75 Batch   60/86   train_loss = 2.963\n",
      "Epoch  76 Batch    4/86   train_loss = 2.759\n",
      "Epoch  76 Batch   34/86   train_loss = 2.298\n",
      "Epoch  76 Batch   64/86   train_loss = 2.325\n",
      "Epoch  77 Batch    8/86   train_loss = 2.729\n",
      "Epoch  77 Batch   38/86   train_loss = 2.332\n",
      "Epoch  77 Batch   68/86   train_loss = 2.563\n",
      "Epoch  78 Batch   12/86   train_loss = 2.366\n",
      "Epoch  78 Batch   42/86   train_loss = 2.841\n",
      "Epoch  78 Batch   72/86   train_loss = 2.607\n",
      "Epoch  79 Batch   16/86   train_loss = 2.464\n",
      "Epoch  79 Batch   46/86   train_loss = 2.495\n",
      "Epoch  79 Batch   76/86   train_loss = 2.199\n",
      "Epoch  80 Batch   20/86   train_loss = 2.170\n",
      "Epoch  80 Batch   50/86   train_loss = 2.528\n",
      "Epoch  80 Batch   80/86   train_loss = 2.573\n",
      "Epoch  81 Batch   24/86   train_loss = 2.250\n",
      "Epoch  81 Batch   54/86   train_loss = 2.631\n",
      "Epoch  81 Batch   84/86   train_loss = 2.588\n",
      "Epoch  82 Batch   28/86   train_loss = 2.270\n",
      "Epoch  82 Batch   58/86   train_loss = 2.545\n",
      "Epoch  83 Batch    2/86   train_loss = 2.259\n",
      "Epoch  83 Batch   32/86   train_loss = 2.302\n",
      "Epoch  83 Batch   62/86   train_loss = 2.318\n",
      "Epoch  84 Batch    6/86   train_loss = 2.306\n",
      "Epoch  84 Batch   36/86   train_loss = 1.948\n",
      "Epoch  84 Batch   66/86   train_loss = 2.076\n",
      "Epoch  85 Batch   10/86   train_loss = 1.924\n",
      "Epoch  85 Batch   40/86   train_loss = 2.159\n",
      "Epoch  85 Batch   70/86   train_loss = 1.977\n",
      "Epoch  86 Batch   14/86   train_loss = 2.178\n",
      "Epoch  86 Batch   44/86   train_loss = 2.302\n",
      "Epoch  86 Batch   74/86   train_loss = 1.837\n",
      "Epoch  87 Batch   18/86   train_loss = 1.831\n",
      "Epoch  87 Batch   48/86   train_loss = 2.090\n",
      "Epoch  87 Batch   78/86   train_loss = 2.181\n",
      "Epoch  88 Batch   22/86   train_loss = 2.093\n",
      "Epoch  88 Batch   52/86   train_loss = 1.999\n",
      "Epoch  88 Batch   82/86   train_loss = 1.843\n",
      "Epoch  89 Batch   26/86   train_loss = 1.902\n",
      "Epoch  89 Batch   56/86   train_loss = 2.002\n",
      "Epoch  90 Batch    0/86   train_loss = 2.314\n",
      "Epoch  90 Batch   30/86   train_loss = 1.785\n",
      "Epoch  90 Batch   60/86   train_loss = 2.276\n",
      "Epoch  91 Batch    4/86   train_loss = 1.972\n",
      "Epoch  91 Batch   34/86   train_loss = 1.655\n",
      "Epoch  91 Batch   64/86   train_loss = 1.754\n",
      "Epoch  92 Batch    8/86   train_loss = 1.996\n",
      "Epoch  92 Batch   38/86   train_loss = 1.608\n",
      "Epoch  92 Batch   68/86   train_loss = 1.887\n",
      "Epoch  93 Batch   12/86   train_loss = 1.754\n",
      "Epoch  93 Batch   42/86   train_loss = 2.089\n",
      "Epoch  93 Batch   72/86   train_loss = 1.890\n",
      "Epoch  94 Batch   16/86   train_loss = 1.867\n",
      "Epoch  94 Batch   46/86   train_loss = 1.745\n",
      "Epoch  94 Batch   76/86   train_loss = 1.577\n",
      "Epoch  95 Batch   20/86   train_loss = 1.539\n",
      "Epoch  95 Batch   50/86   train_loss = 1.858\n",
      "Epoch  95 Batch   80/86   train_loss = 1.841\n",
      "Epoch  96 Batch   24/86   train_loss = 1.610\n",
      "Epoch  96 Batch   54/86   train_loss = 2.038\n",
      "Epoch  96 Batch   84/86   train_loss = 1.798\n",
      "Epoch  97 Batch   28/86   train_loss = 1.620\n",
      "Epoch  97 Batch   58/86   train_loss = 1.876\n",
      "Epoch  98 Batch    2/86   train_loss = 1.568\n",
      "Epoch  98 Batch   32/86   train_loss = 1.688\n",
      "Epoch  98 Batch   62/86   train_loss = 1.712\n",
      "Epoch  99 Batch    6/86   train_loss = 1.711\n",
      "Epoch  99 Batch   36/86   train_loss = 1.338\n",
      "Epoch  99 Batch   66/86   train_loss = 1.518\n",
      "Epoch 100 Batch   10/86   train_loss = 1.357\n",
      "Epoch 100 Batch   40/86   train_loss = 1.582\n",
      "Epoch 100 Batch   70/86   train_loss = 1.544\n",
      "Epoch 101 Batch   14/86   train_loss = 1.574\n",
      "Epoch 101 Batch   44/86   train_loss = 1.658\n",
      "Epoch 101 Batch   74/86   train_loss = 1.359\n",
      "Epoch 102 Batch   18/86   train_loss = 1.327\n",
      "Epoch 102 Batch   48/86   train_loss = 1.575\n",
      "Epoch 102 Batch   78/86   train_loss = 1.610\n",
      "Epoch 103 Batch   22/86   train_loss = 1.562\n",
      "Epoch 103 Batch   52/86   train_loss = 1.444\n",
      "Epoch 103 Batch   82/86   train_loss = 1.372\n",
      "Epoch 104 Batch   26/86   train_loss = 1.430\n",
      "Epoch 104 Batch   56/86   train_loss = 1.491\n",
      "Epoch 105 Batch    0/86   train_loss = 1.824\n",
      "Epoch 105 Batch   30/86   train_loss = 1.382\n",
      "Epoch 105 Batch   60/86   train_loss = 1.696\n",
      "Epoch 106 Batch    4/86   train_loss = 1.423\n",
      "Epoch 106 Batch   34/86   train_loss = 1.233\n",
      "Epoch 106 Batch   64/86   train_loss = 1.375\n",
      "Epoch 107 Batch    8/86   train_loss = 1.464\n",
      "Epoch 107 Batch   38/86   train_loss = 1.200\n",
      "Epoch 107 Batch   68/86   train_loss = 1.394\n",
      "Epoch 108 Batch   12/86   train_loss = 1.357\n",
      "Epoch 108 Batch   42/86   train_loss = 1.563\n",
      "Epoch 108 Batch   72/86   train_loss = 1.383\n",
      "Epoch 109 Batch   16/86   train_loss = 1.366\n",
      "Epoch 109 Batch   46/86   train_loss = 1.246\n",
      "Epoch 109 Batch   76/86   train_loss = 1.228\n",
      "Epoch 110 Batch   20/86   train_loss = 1.122\n",
      "Epoch 110 Batch   50/86   train_loss = 1.355\n",
      "Epoch 110 Batch   80/86   train_loss = 1.356\n",
      "Epoch 111 Batch   24/86   train_loss = 1.192\n",
      "Epoch 111 Batch   54/86   train_loss = 1.497\n",
      "Epoch 111 Batch   84/86   train_loss = 1.293\n",
      "Epoch 112 Batch   28/86   train_loss = 1.214\n",
      "Epoch 112 Batch   58/86   train_loss = 1.486\n",
      "Epoch 113 Batch    2/86   train_loss = 1.217\n",
      "Epoch 113 Batch   32/86   train_loss = 1.278\n",
      "Epoch 113 Batch   62/86   train_loss = 1.322\n",
      "Epoch 114 Batch    6/86   train_loss = 1.183\n",
      "Epoch 114 Batch   36/86   train_loss = 1.019\n",
      "Epoch 114 Batch   66/86   train_loss = 1.118\n",
      "Epoch 115 Batch   10/86   train_loss = 0.936\n",
      "Epoch 115 Batch   40/86   train_loss = 1.186\n",
      "Epoch 115 Batch   70/86   train_loss = 1.165\n",
      "Epoch 116 Batch   14/86   train_loss = 1.219\n",
      "Epoch 116 Batch   44/86   train_loss = 1.193\n",
      "Epoch 116 Batch   74/86   train_loss = 1.069\n",
      "Epoch 117 Batch   18/86   train_loss = 1.017\n",
      "Epoch 117 Batch   48/86   train_loss = 1.177\n",
      "Epoch 117 Batch   78/86   train_loss = 1.205\n",
      "Epoch 118 Batch   22/86   train_loss = 1.120\n",
      "Epoch 118 Batch   52/86   train_loss = 1.102\n",
      "Epoch 118 Batch   82/86   train_loss = 1.060\n",
      "Epoch 119 Batch   26/86   train_loss = 1.091\n",
      "Epoch 119 Batch   56/86   train_loss = 1.124\n",
      "Epoch 120 Batch    0/86   train_loss = 1.432\n",
      "Epoch 120 Batch   30/86   train_loss = 0.994\n",
      "Epoch 120 Batch   60/86   train_loss = 1.327\n",
      "Epoch 121 Batch    4/86   train_loss = 1.107\n",
      "Epoch 121 Batch   34/86   train_loss = 0.995\n",
      "Epoch 121 Batch   64/86   train_loss = 1.092\n",
      "Epoch 122 Batch    8/86   train_loss = 1.126\n",
      "Epoch 122 Batch   38/86   train_loss = 0.960\n",
      "Epoch 122 Batch   68/86   train_loss = 1.130\n",
      "Epoch 123 Batch   12/86   train_loss = 1.104\n",
      "Epoch 123 Batch   42/86   train_loss = 1.314\n",
      "Epoch 123 Batch   72/86   train_loss = 1.117\n",
      "Epoch 124 Batch   16/86   train_loss = 1.113\n",
      "Epoch 124 Batch   46/86   train_loss = 0.983\n",
      "Epoch 124 Batch   76/86   train_loss = 0.986\n",
      "Epoch 125 Batch   20/86   train_loss = 0.909\n",
      "Epoch 125 Batch   50/86   train_loss = 1.085\n",
      "Epoch 125 Batch   80/86   train_loss = 1.030\n",
      "Epoch 126 Batch   24/86   train_loss = 0.987\n",
      "Epoch 126 Batch   54/86   train_loss = 1.228\n",
      "Epoch 126 Batch   84/86   train_loss = 1.006\n",
      "Epoch 127 Batch   28/86   train_loss = 0.941\n",
      "Epoch 127 Batch   58/86   train_loss = 1.186\n",
      "Epoch 128 Batch    2/86   train_loss = 1.008\n",
      "Epoch 128 Batch   32/86   train_loss = 1.033\n",
      "Epoch 128 Batch   62/86   train_loss = 1.107\n",
      "Epoch 129 Batch    6/86   train_loss = 1.072\n",
      "Epoch 129 Batch   36/86   train_loss = 0.809\n",
      "Epoch 129 Batch   66/86   train_loss = 0.958\n",
      "Epoch 130 Batch   10/86   train_loss = 0.882\n",
      "Epoch 130 Batch   40/86   train_loss = 1.035\n",
      "Epoch 130 Batch   70/86   train_loss = 1.018\n",
      "Epoch 131 Batch   14/86   train_loss = 1.020\n",
      "Epoch 131 Batch   44/86   train_loss = 0.976\n",
      "Epoch 131 Batch   74/86   train_loss = 0.952\n",
      "Epoch 132 Batch   18/86   train_loss = 0.900\n",
      "Epoch 132 Batch   48/86   train_loss = 1.019\n",
      "Epoch 132 Batch   78/86   train_loss = 1.008\n",
      "Epoch 133 Batch   22/86   train_loss = 0.957\n",
      "Epoch 133 Batch   52/86   train_loss = 0.895\n",
      "Epoch 133 Batch   82/86   train_loss = 0.924\n",
      "Epoch 134 Batch   26/86   train_loss = 1.010\n",
      "Epoch 134 Batch   56/86   train_loss = 0.978\n",
      "Epoch 135 Batch    0/86   train_loss = 1.130\n",
      "Epoch 135 Batch   30/86   train_loss = 0.858\n",
      "Epoch 135 Batch   60/86   train_loss = 1.058\n",
      "Epoch 136 Batch    4/86   train_loss = 0.993\n",
      "Epoch 136 Batch   34/86   train_loss = 0.782\n",
      "Epoch 136 Batch   64/86   train_loss = 0.922\n",
      "Epoch 137 Batch    8/86   train_loss = 1.001\n",
      "Epoch 137 Batch   38/86   train_loss = 0.768\n",
      "Epoch 137 Batch   68/86   train_loss = 0.914\n",
      "Epoch 138 Batch   12/86   train_loss = 0.872\n",
      "Epoch 138 Batch   42/86   train_loss = 0.972\n",
      "Epoch 138 Batch   72/86   train_loss = 0.961\n",
      "Epoch 139 Batch   16/86   train_loss = 0.934\n",
      "Epoch 139 Batch   46/86   train_loss = 0.774\n",
      "Epoch 139 Batch   76/86   train_loss = 0.772\n",
      "Epoch 140 Batch   20/86   train_loss = 0.754\n",
      "Epoch 140 Batch   50/86   train_loss = 0.870\n",
      "Epoch 140 Batch   80/86   train_loss = 0.792\n",
      "Epoch 141 Batch   24/86   train_loss = 0.804\n",
      "Epoch 141 Batch   54/86   train_loss = 1.034\n",
      "Epoch 141 Batch   84/86   train_loss = 0.794\n",
      "Epoch 142 Batch   28/86   train_loss = 0.754\n",
      "Epoch 142 Batch   58/86   train_loss = 0.975\n",
      "Epoch 143 Batch    2/86   train_loss = 0.755\n",
      "Epoch 143 Batch   32/86   train_loss = 0.893\n",
      "Epoch 143 Batch   62/86   train_loss = 0.867\n",
      "Epoch 144 Batch    6/86   train_loss = 0.787\n",
      "Epoch 144 Batch   36/86   train_loss = 0.661\n",
      "Epoch 144 Batch   66/86   train_loss = 0.751\n",
      "Epoch 145 Batch   10/86   train_loss = 0.660\n",
      "Epoch 145 Batch   40/86   train_loss = 0.786\n",
      "Epoch 145 Batch   70/86   train_loss = 0.776\n",
      "Epoch 146 Batch   14/86   train_loss = 0.828\n",
      "Epoch 146 Batch   44/86   train_loss = 0.807\n",
      "Epoch 146 Batch   74/86   train_loss = 0.795\n",
      "Epoch 147 Batch   18/86   train_loss = 0.756\n",
      "Epoch 147 Batch   48/86   train_loss = 0.853\n",
      "Epoch 147 Batch   78/86   train_loss = 0.828\n",
      "Epoch 148 Batch   22/86   train_loss = 0.779\n",
      "Epoch 148 Batch   52/86   train_loss = 0.705\n",
      "Epoch 148 Batch   82/86   train_loss = 0.757\n",
      "Epoch 149 Batch   26/86   train_loss = 0.838\n",
      "Epoch 149 Batch   56/86   train_loss = 0.843\n",
      "Epoch 150 Batch    0/86   train_loss = 1.025\n",
      "Epoch 150 Batch   30/86   train_loss = 0.835\n",
      "Epoch 150 Batch   60/86   train_loss = 1.030\n",
      "Epoch 151 Batch    4/86   train_loss = 0.914\n",
      "Epoch 151 Batch   34/86   train_loss = 0.817\n",
      "Epoch 151 Batch   64/86   train_loss = 0.955\n",
      "Epoch 152 Batch    8/86   train_loss = 1.001\n",
      "Epoch 152 Batch   38/86   train_loss = 0.953\n",
      "Epoch 152 Batch   68/86   train_loss = 1.035\n",
      "Epoch 153 Batch   12/86   train_loss = 1.049\n",
      "Epoch 153 Batch   42/86   train_loss = 1.148\n",
      "Epoch 153 Batch   72/86   train_loss = 1.057\n",
      "Epoch 154 Batch   16/86   train_loss = 1.102\n",
      "Epoch 154 Batch   46/86   train_loss = 0.981\n",
      "Epoch 154 Batch   76/86   train_loss = 0.900\n",
      "Epoch 155 Batch   20/86   train_loss = 0.862\n",
      "Epoch 155 Batch   50/86   train_loss = 0.978\n",
      "Epoch 155 Batch   80/86   train_loss = 1.030\n",
      "Epoch 156 Batch   24/86   train_loss = 0.877\n",
      "Epoch 156 Batch   54/86   train_loss = 1.048\n",
      "Epoch 156 Batch   84/86   train_loss = 0.876\n",
      "Epoch 157 Batch   28/86   train_loss = 0.851\n",
      "Epoch 157 Batch   58/86   train_loss = 1.019\n",
      "Epoch 158 Batch    2/86   train_loss = 0.845\n",
      "Epoch 158 Batch   32/86   train_loss = 0.963\n",
      "Epoch 158 Batch   62/86   train_loss = 0.904\n",
      "Epoch 159 Batch    6/86   train_loss = 0.798\n",
      "Epoch 159 Batch   36/86   train_loss = 0.675\n",
      "Epoch 159 Batch   66/86   train_loss = 0.724\n",
      "Epoch 160 Batch   10/86   train_loss = 0.674\n",
      "Epoch 160 Batch   40/86   train_loss = 0.799\n",
      "Epoch 160 Batch   70/86   train_loss = 0.741\n",
      "Epoch 161 Batch   14/86   train_loss = 0.771\n",
      "Epoch 161 Batch   44/86   train_loss = 0.722\n",
      "Epoch 161 Batch   74/86   train_loss = 0.762\n",
      "Epoch 162 Batch   18/86   train_loss = 0.686\n",
      "Epoch 162 Batch   48/86   train_loss = 0.750\n",
      "Epoch 162 Batch   78/86   train_loss = 0.720\n",
      "Epoch 163 Batch   22/86   train_loss = 0.719\n",
      "Epoch 163 Batch   52/86   train_loss = 0.637\n",
      "Epoch 163 Batch   82/86   train_loss = 0.650\n",
      "Epoch 164 Batch   26/86   train_loss = 0.775\n",
      "Epoch 164 Batch   56/86   train_loss = 0.697\n",
      "Epoch 165 Batch    0/86   train_loss = 0.795\n",
      "Epoch 165 Batch   30/86   train_loss = 0.633\n",
      "Epoch 165 Batch   60/86   train_loss = 0.771\n",
      "Epoch 166 Batch    4/86   train_loss = 0.710\n",
      "Epoch 166 Batch   34/86   train_loss = 0.623\n",
      "Epoch 166 Batch   64/86   train_loss = 0.692\n",
      "Epoch 167 Batch    8/86   train_loss = 0.686\n",
      "Epoch 167 Batch   38/86   train_loss = 0.622\n",
      "Epoch 167 Batch   68/86   train_loss = 0.624\n",
      "Epoch 168 Batch   12/86   train_loss = 0.624\n",
      "Epoch 168 Batch   42/86   train_loss = 0.694\n",
      "Epoch 168 Batch   72/86   train_loss = 0.684\n",
      "Epoch 169 Batch   16/86   train_loss = 0.676\n",
      "Epoch 169 Batch   46/86   train_loss = 0.552\n",
      "Epoch 169 Batch   76/86   train_loss = 0.561\n",
      "Epoch 170 Batch   20/86   train_loss = 0.570\n",
      "Epoch 170 Batch   50/86   train_loss = 0.627\n",
      "Epoch 170 Batch   80/86   train_loss = 0.579\n",
      "Epoch 171 Batch   24/86   train_loss = 0.566\n",
      "Epoch 171 Batch   54/86   train_loss = 0.756\n",
      "Epoch 171 Batch   84/86   train_loss = 0.588\n",
      "Epoch 172 Batch   28/86   train_loss = 0.543\n",
      "Epoch 172 Batch   58/86   train_loss = 0.736\n",
      "Epoch 173 Batch    2/86   train_loss = 0.559\n",
      "Epoch 173 Batch   32/86   train_loss = 0.696\n",
      "Epoch 173 Batch   62/86   train_loss = 0.638\n",
      "Epoch 174 Batch    6/86   train_loss = 0.584\n",
      "Epoch 174 Batch   36/86   train_loss = 0.505\n",
      "Epoch 174 Batch   66/86   train_loss = 0.555\n",
      "Epoch 175 Batch   10/86   train_loss = 0.507\n",
      "Epoch 175 Batch   40/86   train_loss = 0.636\n",
      "Epoch 175 Batch   70/86   train_loss = 0.586\n",
      "Epoch 176 Batch   14/86   train_loss = 0.635\n",
      "Epoch 176 Batch   44/86   train_loss = 0.599\n",
      "Epoch 176 Batch   74/86   train_loss = 0.635\n",
      "Epoch 177 Batch   18/86   train_loss = 0.620\n",
      "Epoch 177 Batch   48/86   train_loss = 0.652\n",
      "Epoch 177 Batch   78/86   train_loss = 0.659\n",
      "Epoch 178 Batch   22/86   train_loss = 0.617\n",
      "Epoch 178 Batch   52/86   train_loss = 0.563\n",
      "Epoch 178 Batch   82/86   train_loss = 0.665\n",
      "Epoch 179 Batch   26/86   train_loss = 0.772\n",
      "Epoch 179 Batch   56/86   train_loss = 0.761\n",
      "Epoch 180 Batch    0/86   train_loss = 1.041\n",
      "Epoch 180 Batch   30/86   train_loss = 0.965\n",
      "Epoch 180 Batch   60/86   train_loss = 1.404\n",
      "Epoch 181 Batch    4/86   train_loss = 1.447\n",
      "Epoch 181 Batch   34/86   train_loss = 1.544\n",
      "Epoch 181 Batch   64/86   train_loss = 1.731\n",
      "Epoch 182 Batch    8/86   train_loss = 1.805\n",
      "Epoch 182 Batch   38/86   train_loss = 1.554\n",
      "Epoch 182 Batch   68/86   train_loss = 1.865\n",
      "Epoch 183 Batch   12/86   train_loss = 1.477\n",
      "Epoch 183 Batch   42/86   train_loss = 1.661\n",
      "Epoch 183 Batch   72/86   train_loss = 1.470\n",
      "Epoch 184 Batch   16/86   train_loss = 1.370\n",
      "Epoch 184 Batch   46/86   train_loss = 1.364\n",
      "Epoch 184 Batch   76/86   train_loss = 1.127\n",
      "Epoch 185 Batch   20/86   train_loss = 1.061\n",
      "Epoch 185 Batch   50/86   train_loss = 1.140\n",
      "Epoch 185 Batch   80/86   train_loss = 1.023\n",
      "Epoch 186 Batch   24/86   train_loss = 0.895\n",
      "Epoch 186 Batch   54/86   train_loss = 1.094\n",
      "Epoch 186 Batch   84/86   train_loss = 0.879\n",
      "Epoch 187 Batch   28/86   train_loss = 0.879\n",
      "Epoch 187 Batch   58/86   train_loss = 0.897\n",
      "Epoch 188 Batch    2/86   train_loss = 0.844\n",
      "Epoch 188 Batch   32/86   train_loss = 0.864\n",
      "Epoch 188 Batch   62/86   train_loss = 0.831\n",
      "Epoch 189 Batch    6/86   train_loss = 0.751\n",
      "Epoch 189 Batch   36/86   train_loss = 0.592\n",
      "Epoch 189 Batch   66/86   train_loss = 0.666\n",
      "Epoch 190 Batch   10/86   train_loss = 0.607\n",
      "Epoch 190 Batch   40/86   train_loss = 0.699\n",
      "Epoch 190 Batch   70/86   train_loss = 0.669\n",
      "Epoch 191 Batch   14/86   train_loss = 0.688\n",
      "Epoch 191 Batch   44/86   train_loss = 0.691\n",
      "Epoch 191 Batch   74/86   train_loss = 0.664\n",
      "Epoch 192 Batch   18/86   train_loss = 0.642\n",
      "Epoch 192 Batch   48/86   train_loss = 0.650\n",
      "Epoch 192 Batch   78/86   train_loss = 0.634\n",
      "Epoch 193 Batch   22/86   train_loss = 0.605\n",
      "Epoch 193 Batch   52/86   train_loss = 0.531\n",
      "Epoch 193 Batch   82/86   train_loss = 0.570\n",
      "Epoch 194 Batch   26/86   train_loss = 0.654\n",
      "Epoch 194 Batch   56/86   train_loss = 0.610\n",
      "Epoch 195 Batch    0/86   train_loss = 0.722\n",
      "Epoch 195 Batch   30/86   train_loss = 0.556\n",
      "Epoch 195 Batch   60/86   train_loss = 0.626\n",
      "Epoch 196 Batch    4/86   train_loss = 0.632\n",
      "Epoch 196 Batch   34/86   train_loss = 0.549\n",
      "Epoch 196 Batch   64/86   train_loss = 0.620\n",
      "Epoch 197 Batch    8/86   train_loss = 0.607\n",
      "Epoch 197 Batch   38/86   train_loss = 0.553\n",
      "Epoch 197 Batch   68/86   train_loss = 0.562\n",
      "Epoch 198 Batch   12/86   train_loss = 0.579\n",
      "Epoch 198 Batch   42/86   train_loss = 0.614\n",
      "Epoch 198 Batch   72/86   train_loss = 0.629\n",
      "Epoch 199 Batch   16/86   train_loss = 0.610\n",
      "Epoch 199 Batch   46/86   train_loss = 0.498\n",
      "Epoch 199 Batch   76/86   train_loss = 0.495\n",
      "Model Trained and Saved\n"
     ]
    }
   ],
   "source": [
    "\n",
    "\n",
    "\n",
    "\"\"\"\n",
    "DON'T MODIFY ANYTHING IN THIS CELL\n",
    "\"\"\"\n",
    "batches = get_batches(int_text, batch_size, seq_length)\n",
    "\n",
    "with tf.Session(graph=train_graph) as sess:\n",
    "    sess.run(tf.global_variables_initializer())\n",
    "\n",
    "    for epoch_i in range(num_epochs):\n",
    "        state = sess.run(initial_state, {input_text: batches[0][0]})\n",
    "\n",
    "        for batch_i, (x, y) in enumerate(batches):\n",
    "            feed = {\n",
    "                input_text: x,\n",
    "                targets: y,\n",
    "                initial_state: state,\n",
    "                lr: learning_rate}\n",
    "            train_loss, state, _ = sess.run([cost, final_state, train_op], feed)\n",
    "\n",
    "            # Show every <show_every_n_batches> batches\n",
    "            if (epoch_i * len(batches) + batch_i) % show_every_n_batches == 0:\n",
    "                print('Epoch {:>3} Batch {:>4}/{}   train_loss = {:.3f}'.format(\n",
    "                    epoch_i,\n",
    "                    batch_i,\n",
    "                    len(batches),\n",
    "                    train_loss))\n",
    "\n",
    "    # Save Model\n",
    "    saver = tf.train.Saver()\n",
    "    saver.save(sess, save_dir)\n",
    "    print('Model Trained and Saved')"
   ]
  },
  {
   "cell_type": "code",
   "execution_count": null,
   "metadata": {
    "collapsed": true,
    "deletable": true,
    "editable": true
   },
   "outputs": [],
   "source": []
  },
  {
   "cell_type": "markdown",
   "metadata": {
    "deletable": true,
    "editable": true
   },
   "source": [
    "## Save Parameters\n",
    "Save `seq_length` and `save_dir` for generating a new TV script."
   ]
  },
  {
   "cell_type": "code",
   "execution_count": 3,
   "metadata": {
    "collapsed": false,
    "deletable": true,
    "editable": true
   },
   "outputs": [
    {
     "ename": "NameError",
     "evalue": "name 'seq_length' is not defined",
     "output_type": "error",
     "traceback": [
      "\u001b[0;31m---------------------------------------------------------------------------\u001b[0m",
      "\u001b[0;31mNameError\u001b[0m                                 Traceback (most recent call last)",
      "\u001b[0;32m<ipython-input-3-2d99d61fdfff>\u001b[0m in \u001b[0;36m<module>\u001b[0;34m()\u001b[0m\n\u001b[1;32m      3\u001b[0m \"\"\"\n\u001b[1;32m      4\u001b[0m \u001b[1;31m# Save parameters for checkpoint\u001b[0m\u001b[1;33m\u001b[0m\u001b[1;33m\u001b[0m\u001b[0m\n\u001b[0;32m----> 5\u001b[0;31m \u001b[0mhelper\u001b[0m\u001b[1;33m.\u001b[0m\u001b[0msave_params\u001b[0m\u001b[1;33m(\u001b[0m\u001b[1;33m(\u001b[0m\u001b[0mseq_length\u001b[0m\u001b[1;33m,\u001b[0m \u001b[0msave_dir\u001b[0m\u001b[1;33m)\u001b[0m\u001b[1;33m)\u001b[0m\u001b[1;33m\u001b[0m\u001b[0m\n\u001b[0m",
      "\u001b[0;31mNameError\u001b[0m: name 'seq_length' is not defined"
     ]
    }
   ],
   "source": [
    "\"\"\"\n",
    "DON'T MODIFY ANYTHING IN THIS CELL\n",
    "\"\"\"\n",
    "# Save parameters for checkpoint\n",
    "helper.save_params((seq_length, save_dir))"
   ]
  },
  {
   "cell_type": "markdown",
   "metadata": {
    "deletable": true,
    "editable": true
   },
   "source": [
    "# Checkpoint"
   ]
  },
  {
   "cell_type": "code",
   "execution_count": 2,
   "metadata": {
    "collapsed": false,
    "deletable": true,
    "editable": true
   },
   "outputs": [
    {
     "ename": "FileNotFoundError",
     "evalue": "[Errno 2] No such file or directory: 'params.p'",
     "output_type": "error",
     "traceback": [
      "\u001b[0;31m---------------------------------------------------------------------------\u001b[0m",
      "\u001b[0;31mFileNotFoundError\u001b[0m                         Traceback (most recent call last)",
      "\u001b[0;32m<ipython-input-2-83d0146f7781>\u001b[0m in \u001b[0;36m<module>\u001b[0;34m()\u001b[0m\n\u001b[1;32m      8\u001b[0m \u001b[1;33m\u001b[0m\u001b[0m\n\u001b[1;32m      9\u001b[0m \u001b[0m_\u001b[0m\u001b[1;33m,\u001b[0m \u001b[0mvocab_to_int\u001b[0m\u001b[1;33m,\u001b[0m \u001b[0mint_to_vocab\u001b[0m\u001b[1;33m,\u001b[0m \u001b[0mtoken_dict\u001b[0m \u001b[1;33m=\u001b[0m \u001b[0mhelper\u001b[0m\u001b[1;33m.\u001b[0m\u001b[0mload_preprocess\u001b[0m\u001b[1;33m(\u001b[0m\u001b[1;33m)\u001b[0m\u001b[1;33m\u001b[0m\u001b[0m\n\u001b[0;32m---> 10\u001b[0;31m \u001b[0mseq_length\u001b[0m\u001b[1;33m,\u001b[0m \u001b[0mload_dir\u001b[0m \u001b[1;33m=\u001b[0m \u001b[0mhelper\u001b[0m\u001b[1;33m.\u001b[0m\u001b[0mload_params\u001b[0m\u001b[1;33m(\u001b[0m\u001b[1;33m)\u001b[0m\u001b[1;33m\u001b[0m\u001b[0m\n\u001b[0m",
      "\u001b[0;32mC:\\Users\\amanpreet_singh\\Documents\\Deep Learning Foundations NanoDegree\\udacity github deep learning\\25 march\\deep-learning-master\\tv-script-generation\\helper.py\u001b[0m in \u001b[0;36mload_params\u001b[0;34m()\u001b[0m\n\u001b[1;32m     53\u001b[0m     \u001b[0mLoad\u001b[0m \u001b[0mparameters\u001b[0m \u001b[1;32mfrom\u001b[0m \u001b[0mfile\u001b[0m\u001b[1;33m\u001b[0m\u001b[0m\n\u001b[1;32m     54\u001b[0m     \"\"\"\n\u001b[0;32m---> 55\u001b[0;31m     \u001b[1;32mreturn\u001b[0m \u001b[0mpickle\u001b[0m\u001b[1;33m.\u001b[0m\u001b[0mload\u001b[0m\u001b[1;33m(\u001b[0m\u001b[0mopen\u001b[0m\u001b[1;33m(\u001b[0m\u001b[1;34m'params.p'\u001b[0m\u001b[1;33m,\u001b[0m \u001b[0mmode\u001b[0m\u001b[1;33m=\u001b[0m\u001b[1;34m'rb'\u001b[0m\u001b[1;33m)\u001b[0m\u001b[1;33m)\u001b[0m\u001b[1;33m\u001b[0m\u001b[0m\n\u001b[0m",
      "\u001b[0;31mFileNotFoundError\u001b[0m: [Errno 2] No such file or directory: 'params.p'"
     ]
    }
   ],
   "source": [
    "\"\"\"\n",
    "DON'T MODIFY ANYTHING IN THIS CELL\n",
    "\"\"\"\n",
    "import tensorflow as tf\n",
    "import numpy as np\n",
    "import helper\n",
    "import problem_unittests as tests\n",
    "\n",
    "_, vocab_to_int, int_to_vocab, token_dict = helper.load_preprocess()\n",
    "seq_length, load_dir = helper.load_params()"
   ]
  },
  {
   "cell_type": "markdown",
   "metadata": {
    "deletable": true,
    "editable": true
   },
   "source": [
    "## Implement Generate Functions\n",
    "### Get Tensors\n",
    "Get tensors from `loaded_graph` using the function [`get_tensor_by_name()`](https://www.tensorflow.org/api_docs/python/tf/Graph#get_tensor_by_name).  Get the tensors using the following names:\n",
    "- \"input:0\"\n",
    "- \"initial_state:0\"\n",
    "- \"final_state:0\"\n",
    "- \"probs:0\"\n",
    "\n",
    "Return the tensors in the following tuple `(InputTensor, InitialStateTensor, FinalStateTensor, ProbsTensor)` "
   ]
  },
  {
   "cell_type": "code",
   "execution_count": 67,
   "metadata": {
    "collapsed": false,
    "deletable": true,
    "editable": true
   },
   "outputs": [
    {
     "name": "stdout",
     "output_type": "stream",
     "text": [
      "Tests Passed\n"
     ]
    }
   ],
   "source": [
    "def get_tensors(loaded_graph):\n",
    "    \"\"\"\n",
    "    Get input, initial state, final state, and probabilities tensor from <loaded_graph>\n",
    "    :param loaded_graph: TensorFlow graph loaded from file\n",
    "    :return: Tuple (InputTensor, InitialStateTensor, FinalStateTensor, ProbsTensor)\n",
    "    \"\"\"\n",
    "    # TODO: Implement Function\n",
    "    InputTensor = loaded_graph.get_tensor_by_name(\"input:0\")\n",
    "    InitialStateTensor = loaded_graph.get_tensor_by_name(\"initial_state:0\")\n",
    "    FinalStateTensor = loaded_graph.get_tensor_by_name(\"final_state:0\")\n",
    "    ProbsTensor = loaded_graph.get_tensor_by_name(\"probs:0\")\n",
    "    \n",
    "    return(InputTensor, InitialStateTensor, FinalStateTensor, ProbsTensor)    \n",
    "\n",
    "\n",
    "\"\"\"\n",
    "DON'T MODIFY ANYTHING IN THIS CELL THAT IS BELOW THIS LINE\n",
    "\"\"\"\n",
    "tests.test_get_tensors(get_tensors)"
   ]
  },
  {
   "cell_type": "markdown",
   "metadata": {
    "deletable": true,
    "editable": true
   },
   "source": [
    "### Choose Word\n",
    "Implement the `pick_word()` function to select the next word using `probabilities`."
   ]
  },
  {
   "cell_type": "code",
   "execution_count": 79,
   "metadata": {
    "collapsed": false,
    "deletable": true,
    "editable": true
   },
   "outputs": [
    {
     "name": "stdout",
     "output_type": "stream",
     "text": [
      "Tests Passed\n"
     ]
    }
   ],
   "source": [
    "def pick_word(probabilities, int_to_vocab):\n",
    "    \"\"\"\n",
    "    Pick the next word in the generated text\n",
    "    :param probabilities: Probabilites of the next word\n",
    "    :param int_to_vocab: Dictionary of word ids as the keys and words as the values\n",
    "    :return: String of the predicted word\n",
    "    \"\"\"\n",
    "    # TODO: Implement Function\n",
    "    values = []\n",
    "    for key, value in iter(int_to_vocab.items()):\n",
    "        values.append(value)\n",
    "        \n",
    "    \"\"\"prob = []\n",
    "    for number in probabilities:\n",
    "        prob.append(number)\n",
    "    \"\"\"\n",
    "    return ((np.random.choice(values, 1, p = probabilities)))[0]\n",
    "\n",
    "\n",
    "\"\"\"\n",
    "DON'T MODIFY ANYTHING IN THIS CELL THAT IS BELOW THIS LINE\n",
    "\"\"\"\n",
    "tests.test_pick_word(pick_word)"
   ]
  },
  {
   "cell_type": "markdown",
   "metadata": {
    "deletable": true,
    "editable": true
   },
   "source": [
    "## Generate TV Script\n",
    "This will generate the TV script for you.  Set `gen_length` to the length of TV script you want to generate."
   ]
  },
  {
   "cell_type": "code",
   "execution_count": 80,
   "metadata": {
    "collapsed": false,
    "deletable": true,
    "editable": true
   },
   "outputs": [
    {
     "name": "stdout",
     "output_type": "stream",
     "text": [
      "moe_szyslak: been.. is.\n",
      "homer_simpson:(! uh\n",
      "all happened bad, screw city is whip., girl bar the. not must've treasure\"??\n",
      "just your,\n",
      "(a or) friend..\n",
      "don't in me,. can a(well this looking play lover is(!) do\n",
      "(day dad of)\n",
      "bart_simpson:.\n",
      "homer_simpson:(let duff you give yeah\n",
      "does just, moe_szyslak: with, uh you are who an\" see! can't, moe_szyslak: homer don't? a moe_szyslak:, some stand) mr this the we. here their homer the the. of, moe_szyslak: a are(i'm it yards tonight things babies us,.\n",
      "! moe_szyslak:.\n",
      "\n",
      "! uh! in to. group all do\n",
      "you're(the an you're\" to. be\n",
      "i'm years you for time for twelve is of a of man, beer,! i god? anything there got to a your day you of a. our after a a..(... do moe_szyslak:\n"
     ]
    }
   ],
   "source": [
    "gen_length = 200\n",
    "# homer_simpson, moe_szyslak, or Barney_Gumble\n",
    "prime_word = 'moe_szyslak'\n",
    "\n",
    "\"\"\"\n",
    "DON'T MODIFY ANYTHING IN THIS CELL THAT IS BELOW THIS LINE\n",
    "\"\"\"\n",
    "loaded_graph = tf.Graph()\n",
    "with tf.Session(graph=loaded_graph) as sess:\n",
    "    # Load saved model\n",
    "    loader = tf.train.import_meta_graph(load_dir + '.meta')\n",
    "    loader.restore(sess, load_dir)\n",
    "\n",
    "    # Get Tensors from loaded model\n",
    "    input_text, initial_state, final_state, probs = get_tensors(loaded_graph)\n",
    "\n",
    "    # Sentences generation setup\n",
    "    gen_sentences = [prime_word + ':']\n",
    "    prev_state = sess.run(initial_state, {input_text: np.array([[1]])})\n",
    "\n",
    "    # Generate sentences\n",
    "    for n in range(gen_length):\n",
    "        # Dynamic Input\n",
    "        dyn_input = [[vocab_to_int[word] for word in gen_sentences[-seq_length:]]]\n",
    "        dyn_seq_length = len(dyn_input[0])\n",
    "\n",
    "        # Get Prediction\n",
    "        probabilities, prev_state = sess.run(\n",
    "            [probs, final_state],\n",
    "            {input_text: dyn_input, initial_state: prev_state})\n",
    "        \n",
    "        pred_word = pick_word(probabilities[dyn_seq_length-1], int_to_vocab)\n",
    "\n",
    "        gen_sentences.append(pred_word)\n",
    "    \n",
    "    # Remove tokens\n",
    "    tv_script = ' '.join(gen_sentences)\n",
    "    for key, token in token_dict.items():\n",
    "        ending = ' ' if key in ['\\n', '(', '\"'] else ''\n",
    "        tv_script = tv_script.replace(' ' + token.lower(), key)\n",
    "    tv_script = tv_script.replace('\\n ', '\\n')\n",
    "    tv_script = tv_script.replace('( ', '(')\n",
    "        \n",
    "    print(tv_script)"
   ]
  },
  {
   "cell_type": "markdown",
   "metadata": {
    "deletable": true,
    "editable": true
   },
   "source": [
    "# The TV Script is Nonsensical\n",
    "It's ok if the TV script doesn't make any sense.  We trained on less than a megabyte of text.  In order to get good results, you'll have to use a smaller vocabulary or get more data.  Luckly there's more data!  As we mentioned in the begging of this project, this is a subset of [another dataset](https://www.kaggle.com/wcukierski/the-simpsons-by-the-data).  We didn't have you train on all the data, because that would take too long.  However, you are free to train your neural network on all the data.  After you complete the project, of course.\n",
    "# Submitting This Project\n",
    "When submitting this project, make sure to run all the cells before saving the notebook. Save the notebook file as \"dlnd_tv_script_generation.ipynb\" and save it as a HTML file under \"File\" -> \"Download as\". Include the \"helper.py\" and \"problem_unittests.py\" files in your submission."
   ]
  },
  {
   "cell_type": "code",
   "execution_count": null,
   "metadata": {
    "collapsed": true
   },
   "outputs": [],
   "source": []
  },
  {
   "cell_type": "code",
   "execution_count": null,
   "metadata": {
    "collapsed": true
   },
   "outputs": [],
   "source": []
  }
 ],
 "metadata": {
  "kernelspec": {
   "display_name": "Python 3",
   "language": "python",
   "name": "python3"
  },
  "language_info": {
   "codemirror_mode": {
    "name": "ipython",
    "version": 3
   },
   "file_extension": ".py",
   "mimetype": "text/x-python",
   "name": "python",
   "nbconvert_exporter": "python",
   "pygments_lexer": "ipython3",
   "version": "3.5.2"
  }
 },
 "nbformat": 4,
 "nbformat_minor": 0
}
